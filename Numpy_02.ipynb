{
  "nbformat": 4,
  "nbformat_minor": 0,
  "metadata": {
    "colab": {
      "provenance": [],
      "authorship_tag": "ABX9TyPMQwG9k3wHvLJsTHkBqUpz"
    },
    "kernelspec": {
      "name": "python3",
      "display_name": "Python 3"
    },
    "language_info": {
      "name": "python"
    }
  },
  "cells": [
    {
      "cell_type": "markdown",
      "source": [
        "Numpy - Numerical Python\n",
        "\n",
        "Advantages of Numpy Array:\n",
        "1. Allows several Mathematical Operations\n",
        "2. Faster operations\n"
      ],
      "metadata": {
        "id": "NbmOF0OH8m1m"
      }
    },
    {
      "cell_type": "code",
      "execution_count": 1,
      "metadata": {
        "id": "bl-J_FbaGlgb"
      },
      "outputs": [],
      "source": [
        "import numpy as np"
      ]
    },
    {
      "cell_type": "code",
      "source": [
        "# list\n",
        "list1=[1,2,3,4,56,5]\n",
        "print(list1)\n",
        "type(list1)"
      ],
      "metadata": {
        "colab": {
          "base_uri": "https://localhost:8080/"
        },
        "id": "lxCWhVaE8-DJ",
        "outputId": "b29b51ba-bade-4687-990f-2091c5e809e4"
      },
      "execution_count": 2,
      "outputs": [
        {
          "output_type": "stream",
          "name": "stdout",
          "text": [
            "[1, 2, 3, 4, 56, 5]\n"
          ]
        },
        {
          "output_type": "execute_result",
          "data": {
            "text/plain": [
              "list"
            ]
          },
          "metadata": {},
          "execution_count": 2
        }
      ]
    },
    {
      "cell_type": "code",
      "source": [
        "np_array=np.array([(1,2,3,4)])\n",
        "print(np_array)\n",
        "type(np_array)"
      ],
      "metadata": {
        "colab": {
          "base_uri": "https://localhost:8080/"
        },
        "id": "K3-F1CEe9M0I",
        "outputId": "9649fdf0-9422-43c6-8888-7c6faf2932d4"
      },
      "execution_count": 3,
      "outputs": [
        {
          "output_type": "stream",
          "name": "stdout",
          "text": [
            "[[1 2 3 4]]\n"
          ]
        },
        {
          "output_type": "execute_result",
          "data": {
            "text/plain": [
              "numpy.ndarray"
            ]
          },
          "metadata": {},
          "execution_count": 3
        }
      ]
    },
    {
      "cell_type": "markdown",
      "source": [
        "Note here that the numpy array is not comma-separated"
      ],
      "metadata": {
        "id": "IHDFJMaD9jh9"
      }
    },
    {
      "cell_type": "code",
      "source": [
        "# creating a one-dimensional array\n",
        "a=np.array([1,2,3,4])\n",
        "print(a)\n",
        "print(a.shape)"
      ],
      "metadata": {
        "colab": {
          "base_uri": "https://localhost:8080/"
        },
        "id": "H1tMEeRI9YxB",
        "outputId": "dbc65709-5fc5-492f-cd8e-0596d7fd8667"
      },
      "execution_count": 4,
      "outputs": [
        {
          "output_type": "stream",
          "name": "stdout",
          "text": [
            "[1 2 3 4]\n",
            "(4,)\n"
          ]
        }
      ]
    },
    {
      "cell_type": "code",
      "source": [
        "# creating a two-dimensional array\n",
        "b=np.array([(1,2,3,4,5),(1,2,3,4,5)])\n",
        "print(b)\n",
        "print(b.shape)"
      ],
      "metadata": {
        "colab": {
          "base_uri": "https://localhost:8080/"
        },
        "id": "pWfZs1CR-BYh",
        "outputId": "6d3320aa-5351-4511-fa69-36c3e9fa749f"
      },
      "execution_count": 5,
      "outputs": [
        {
          "output_type": "stream",
          "name": "stdout",
          "text": [
            "[[1 2 3 4 5]\n",
            " [1 2 3 4 5]]\n",
            "(2, 5)\n"
          ]
        }
      ]
    },
    {
      "cell_type": "code",
      "source": [
        "# Making a array in other dataType beacause the default is int\n",
        "c=np.array([(1,2,3,4,5),(1,2,3,4,5)],dtype=float)\n",
        "print(c)\n"
      ],
      "metadata": {
        "colab": {
          "base_uri": "https://localhost:8080/"
        },
        "id": "q5EUfLAx-Pj7",
        "outputId": "8e714fb2-a40f-4775-9a54-09ef32921b82"
      },
      "execution_count": 7,
      "outputs": [
        {
          "output_type": "stream",
          "name": "stdout",
          "text": [
            "[[1. 2. 3. 4. 5.]\n",
            " [1. 2. 3. 4. 5.]]\n"
          ]
        }
      ]
    },
    {
      "cell_type": "markdown",
      "source": [
        "Initial PlaceHolder"
      ],
      "metadata": {
        "id": "YI5auJfn-4m3"
      }
    },
    {
      "cell_type": "code",
      "source": [
        "# Initializing with zero\n",
        "x=np.zeros((3,4))\n",
        "print(x)"
      ],
      "metadata": {
        "colab": {
          "base_uri": "https://localhost:8080/"
        },
        "id": "utsgdg_a-s82",
        "outputId": "f7919b5e-02c0-4fba-802a-04f0ae9fd603"
      },
      "execution_count": 10,
      "outputs": [
        {
          "output_type": "stream",
          "name": "stdout",
          "text": [
            "[[0. 0. 0. 0.]\n",
            " [0. 0. 0. 0.]\n",
            " [0. 0. 0. 0.]]\n"
          ]
        }
      ]
    },
    {
      "cell_type": "code",
      "source": [
        "# Initializing with ones\n",
        "x=np.ones((3,4))\n",
        "print(x)"
      ],
      "metadata": {
        "colab": {
          "base_uri": "https://localhost:8080/"
        },
        "id": "uqx7Cbr7_DqW",
        "outputId": "e8c2d507-ac02-4026-bc59-ae502ff35676"
      },
      "execution_count": 11,
      "outputs": [
        {
          "output_type": "stream",
          "name": "stdout",
          "text": [
            "[[1. 1. 1. 1.]\n",
            " [1. 1. 1. 1.]\n",
            " [1. 1. 1. 1.]]\n"
          ]
        }
      ]
    },
    {
      "cell_type": "code",
      "source": [
        "# array of a particular value\n",
        "y=np.full((4,3),7)\n",
        "print(y)"
      ],
      "metadata": {
        "colab": {
          "base_uri": "https://localhost:8080/"
        },
        "id": "rrqEn0bh_Sfb",
        "outputId": "97f2a3c9-5606-4850-8c72-d6658d681b57"
      },
      "execution_count": 12,
      "outputs": [
        {
          "output_type": "stream",
          "name": "stdout",
          "text": [
            "[[7 7 7]\n",
            " [7 7 7]\n",
            " [7 7 7]\n",
            " [7 7 7]]\n"
          ]
        }
      ]
    },
    {
      "cell_type": "code",
      "source": [
        "# creating a identity matrix\n",
        "z=np.eye(5)\n",
        "print(z)"
      ],
      "metadata": {
        "colab": {
          "base_uri": "https://localhost:8080/"
        },
        "id": "wM0KoF0K_gRM",
        "outputId": "749fdde6-5772-4918-d8c2-de5bb11f6eb9"
      },
      "execution_count": 14,
      "outputs": [
        {
          "output_type": "stream",
          "name": "stdout",
          "text": [
            "[[1. 0. 0. 0. 0.]\n",
            " [0. 1. 0. 0. 0.]\n",
            " [0. 0. 1. 0. 0.]\n",
            " [0. 0. 0. 1. 0.]\n",
            " [0. 0. 0. 0. 1.]]\n"
          ]
        }
      ]
    },
    {
      "cell_type": "code",
      "source": [
        "# creating a numpy array with random values\n",
        "x=np.random.random((5,3))\n",
        "print(x)"
      ],
      "metadata": {
        "colab": {
          "base_uri": "https://localhost:8080/"
        },
        "id": "rU18uExI_tD9",
        "outputId": "4297a1ae-8cae-464c-b5e4-4d80eb9bfd35"
      },
      "execution_count": 15,
      "outputs": [
        {
          "output_type": "stream",
          "name": "stdout",
          "text": [
            "[[0.62962081 0.97425652 0.93941999]\n",
            " [0.27388204 0.89223251 0.81987327]\n",
            " [0.90059022 0.71829111 0.55094102]\n",
            " [0.1021386  0.59509069 0.74826278]\n",
            " [0.51745692 0.64284521 0.66822989]]\n"
          ]
        }
      ]
    },
    {
      "cell_type": "code",
      "source": [
        "# creating a numpy array with random values of int\n",
        "x=np.random.randint(20,50,(5,3))\n",
        "print(x)\n",
        "# From 20 to 50 of 5 Row and 3 cols"
      ],
      "metadata": {
        "colab": {
          "base_uri": "https://localhost:8080/"
        },
        "id": "472I9d8NAC8X",
        "outputId": "ada49237-ee7a-4e9d-a68d-3cd2d38c46fb"
      },
      "execution_count": 18,
      "outputs": [
        {
          "output_type": "stream",
          "name": "stdout",
          "text": [
            "[[30 27 37]\n",
            " [29 47 44]\n",
            " [45 49 36]\n",
            " [35 22 25]\n",
            " [26 30 28]]\n"
          ]
        }
      ]
    },
    {
      "cell_type": "code",
      "source": [
        "# array of evenly spaced values --> specifying the number of values required\n",
        "d = np.linspace(10,30,5)\n",
        "print(d)"
      ],
      "metadata": {
        "colab": {
          "base_uri": "https://localhost:8080/"
        },
        "id": "t0OMrdS7APQV",
        "outputId": "0a9c0654-27a4-4d3a-a32a-b7d81a23b1a0"
      },
      "execution_count": 20,
      "outputs": [
        {
          "output_type": "stream",
          "name": "stdout",
          "text": [
            "[10. 15. 20. 25. 30.]\n"
          ]
        }
      ]
    },
    {
      "cell_type": "code",
      "source": [
        "# array of evenly spaced values --> specifying the step\n",
        "e = np.arange(10,30,5)\n",
        "print(e)"
      ],
      "metadata": {
        "colab": {
          "base_uri": "https://localhost:8080/"
        },
        "id": "6pOxe7sJAsed",
        "outputId": "1e458c6f-5fab-4e8e-b581-8df7fb599246"
      },
      "execution_count": 26,
      "outputs": [
        {
          "output_type": "stream",
          "name": "stdout",
          "text": [
            "[10 15 20 25]\n"
          ]
        }
      ]
    },
    {
      "cell_type": "code",
      "source": [
        "# convert a list into array\n",
        "list2=[1,2,4,6,34,54]\n",
        "array=np.asarray(list2)\n",
        "print(array)\n",
        "type(array)"
      ],
      "metadata": {
        "colab": {
          "base_uri": "https://localhost:8080/"
        },
        "id": "DWQq2NgcA8Bb",
        "outputId": "8b3da4d2-0a15-4ea9-e5a2-930f5177a31b"
      },
      "execution_count": 27,
      "outputs": [
        {
          "output_type": "stream",
          "name": "stdout",
          "text": [
            "[ 1  2  4  6 34 54]\n"
          ]
        },
        {
          "output_type": "execute_result",
          "data": {
            "text/plain": [
              "numpy.ndarray"
            ]
          },
          "metadata": {},
          "execution_count": 27
        }
      ]
    },
    {
      "cell_type": "markdown",
      "source": [
        "*   Analysing a numpy array"
      ],
      "metadata": {
        "id": "aLxfws9rBdzI"
      }
    },
    {
      "cell_type": "code",
      "source": [
        "x=np.random.randint(10,100,(5,6))\n",
        "print(x)"
      ],
      "metadata": {
        "colab": {
          "base_uri": "https://localhost:8080/"
        },
        "id": "nkQnsuMpBNt2",
        "outputId": "fca3ef54-6f6b-4a61-ad0e-1e9bedcf6d9c"
      },
      "execution_count": 28,
      "outputs": [
        {
          "output_type": "stream",
          "name": "stdout",
          "text": [
            "[[26 88 57 38 83 42]\n",
            " [76 73 72 16 50 56]\n",
            " [74 89 32 50 11 37]\n",
            " [87 93 93 93 95 41]\n",
            " [44 10 66 76 50 72]]\n"
          ]
        }
      ]
    },
    {
      "cell_type": "code",
      "source": [
        "#Dimension of numpy array\n",
        "print(x.shape)"
      ],
      "metadata": {
        "colab": {
          "base_uri": "https://localhost:8080/"
        },
        "id": "L4jTaMFPB5S_",
        "outputId": "9bc180bc-aa80-4199-b58c-15c21c5d31ac"
      },
      "execution_count": 29,
      "outputs": [
        {
          "output_type": "stream",
          "name": "stdout",
          "text": [
            "(5, 6)\n"
          ]
        }
      ]
    },
    {
      "cell_type": "code",
      "source": [
        "# Number of Dimension\n",
        "print(x.ndim)"
      ],
      "metadata": {
        "colab": {
          "base_uri": "https://localhost:8080/"
        },
        "id": "9S7AMmW5CEGI",
        "outputId": "2e2ef0eb-868c-49e1-f928-47cd849037f8"
      },
      "execution_count": 30,
      "outputs": [
        {
          "output_type": "stream",
          "name": "stdout",
          "text": [
            "2\n"
          ]
        }
      ]
    },
    {
      "cell_type": "code",
      "source": [
        "# Number of element in the array\n",
        "print(x.size)"
      ],
      "metadata": {
        "colab": {
          "base_uri": "https://localhost:8080/"
        },
        "id": "EZ6k4zGeCLPa",
        "outputId": "80e90598-f270-4586-f23f-f274c09a8f40"
      },
      "execution_count": 31,
      "outputs": [
        {
          "output_type": "stream",
          "name": "stdout",
          "text": [
            "30\n"
          ]
        }
      ]
    },
    {
      "cell_type": "code",
      "source": [
        "# Checking the dataType in the array\n",
        "print(x.dtype)"
      ],
      "metadata": {
        "colab": {
          "base_uri": "https://localhost:8080/"
        },
        "id": "R78OZrKcCSP8",
        "outputId": "ab301f57-1772-4f12-ce1a-300a03308cd4"
      },
      "execution_count": 32,
      "outputs": [
        {
          "output_type": "stream",
          "name": "stdout",
          "text": [
            "int64\n"
          ]
        }
      ]
    },
    {
      "cell_type": "markdown",
      "source": [
        "*  Mathematical Operaiton in Numpy array"
      ],
      "metadata": {
        "id": "LhRdCw3rCdJW"
      }
    },
    {
      "cell_type": "code",
      "source": [
        "\n",
        "a = np.random.randint(0,10,(3,3))\n",
        "b = np.random.randint(10,20,(3,3))\n",
        "\n",
        "c=a+b\n",
        "\n",
        "print(a)\n",
        "print(b)\n",
        "print(c)"
      ],
      "metadata": {
        "colab": {
          "base_uri": "https://localhost:8080/"
        },
        "id": "RKWQ0GxYCZf_",
        "outputId": "e584e37c-2c31-41f3-cd77-3c405fda9ce5"
      },
      "execution_count": 35,
      "outputs": [
        {
          "output_type": "stream",
          "name": "stdout",
          "text": [
            "[[9 0 9]\n",
            " [2 6 8]\n",
            " [4 6 1]]\n",
            "[[19 10 19]\n",
            " [17 15 14]\n",
            " [12 14 19]]\n",
            "[[28 10 28]\n",
            " [19 21 22]\n",
            " [16 20 20]]\n"
          ]
        }
      ]
    },
    {
      "cell_type": "code",
      "source": [
        "print(a+b)\n",
        "print(a-b)\n",
        "print(a*b)\n",
        "print(a/b)"
      ],
      "metadata": {
        "colab": {
          "base_uri": "https://localhost:8080/"
        },
        "id": "EPP8pdN7Cq4U",
        "outputId": "8b04a798-0a8a-49f7-9fc3-c9cbe83dcb11"
      },
      "execution_count": 36,
      "outputs": [
        {
          "output_type": "stream",
          "name": "stdout",
          "text": [
            "[[28 10 28]\n",
            " [19 21 22]\n",
            " [16 20 20]]\n",
            "[[-10 -10 -10]\n",
            " [-15  -9  -6]\n",
            " [ -8  -8 -18]]\n",
            "[[171   0 171]\n",
            " [ 34  90 112]\n",
            " [ 48  84  19]]\n",
            "[[0.47368421 0.         0.47368421]\n",
            " [0.11764706 0.4        0.57142857]\n",
            " [0.33333333 0.42857143 0.05263158]]\n"
          ]
        }
      ]
    },
    {
      "cell_type": "code",
      "source": [
        "# We can even do it with function\n",
        "print(np.add(a,b))\n",
        "print(np.multiply(a,b))\n",
        "print(np.divide(a,b))\n",
        "print(np.subtract(a,b))"
      ],
      "metadata": {
        "colab": {
          "base_uri": "https://localhost:8080/"
        },
        "id": "bXd3wND7C7Xc",
        "outputId": "3599062f-f982-4b9c-9704-c72e91f9c814"
      },
      "execution_count": 40,
      "outputs": [
        {
          "output_type": "stream",
          "name": "stdout",
          "text": [
            "[[28 10 28]\n",
            " [19 21 22]\n",
            " [16 20 20]]\n",
            "[[171   0 171]\n",
            " [ 34  90 112]\n",
            " [ 48  84  19]]\n",
            "[[0.47368421 0.         0.47368421]\n",
            " [0.11764706 0.4        0.57142857]\n",
            " [0.33333333 0.42857143 0.05263158]]\n",
            "[[-10 -10 -10]\n",
            " [-15  -9  -6]\n",
            " [ -8  -8 -18]]\n"
          ]
        }
      ]
    },
    {
      "cell_type": "markdown",
      "source": [
        "*   Array Manipulation"
      ],
      "metadata": {
        "id": "nyP05z6xEJ2T"
      }
    },
    {
      "cell_type": "code",
      "source": [
        "g=np.random.randint(10,50,(5,6))\n",
        "print(g)"
      ],
      "metadata": {
        "colab": {
          "base_uri": "https://localhost:8080/"
        },
        "id": "TT8Ud2eXDHen",
        "outputId": "ad675a1e-279c-48cf-dbf4-5bd12b0d2d46"
      },
      "execution_count": 42,
      "outputs": [
        {
          "output_type": "stream",
          "name": "stdout",
          "text": [
            "[[42 45 13 35 24 32]\n",
            " [29 18 41 21 15 42]\n",
            " [31 40 13 18 22 17]\n",
            " [40 31 42 33 14 39]\n",
            " [42 38 32 42 38 41]]\n"
          ]
        }
      ]
    },
    {
      "cell_type": "code",
      "source": [
        "# shape\n",
        "print(g.shape)"
      ],
      "metadata": {
        "colab": {
          "base_uri": "https://localhost:8080/"
        },
        "id": "CYv4IUoBEb-a",
        "outputId": "00b0c76f-6771-4b60-d011-b9c72f3cb36e"
      },
      "execution_count": 44,
      "outputs": [
        {
          "output_type": "stream",
          "name": "stdout",
          "text": [
            "(5, 6)\n"
          ]
        }
      ]
    },
    {
      "cell_type": "code",
      "source": [
        "# Transpose of the matrix\n",
        "trans=np.transpose(g)\n",
        "print(trans)"
      ],
      "metadata": {
        "colab": {
          "base_uri": "https://localhost:8080/"
        },
        "id": "AYrtyPRAEh2j",
        "outputId": "e7247417-0b5b-4737-a73c-3b5f6fbfe535"
      },
      "execution_count": 45,
      "outputs": [
        {
          "output_type": "stream",
          "name": "stdout",
          "text": [
            "[[42 29 31 40 42]\n",
            " [45 18 40 31 38]\n",
            " [13 41 13 42 32]\n",
            " [35 21 18 33 42]\n",
            " [24 15 22 14 38]\n",
            " [32 42 17 39 41]]\n"
          ]
        }
      ]
    },
    {
      "cell_type": "code",
      "source": [
        "# Another way of transpose\n",
        "trans2=g.T\n",
        "print(trans2)"
      ],
      "metadata": {
        "colab": {
          "base_uri": "https://localhost:8080/"
        },
        "id": "O0pYdrBtEyjZ",
        "outputId": "85447ef7-4ee1-4b4d-b533-4d8faeda8a50"
      },
      "execution_count": 46,
      "outputs": [
        {
          "output_type": "stream",
          "name": "stdout",
          "text": [
            "[[42 29 31 40 42]\n",
            " [45 18 40 31 38]\n",
            " [13 41 13 42 32]\n",
            " [35 21 18 33 42]\n",
            " [24 15 22 14 38]\n",
            " [32 42 17 39 41]]\n"
          ]
        }
      ]
    },
    {
      "cell_type": "markdown",
      "source": [
        "Resaping the array"
      ],
      "metadata": {
        "id": "68okto3XFOBx"
      }
    },
    {
      "cell_type": "code",
      "source": [
        "# reshaping a array\n",
        "a = np.random.randint(0,10,(2,3))\n",
        "print(a)\n",
        "print(a.shape)"
      ],
      "metadata": {
        "colab": {
          "base_uri": "https://localhost:8080/"
        },
        "id": "EcZlG9GwFAul",
        "outputId": "63c725d7-f307-40ee-c554-687f306e591e"
      },
      "execution_count": 47,
      "outputs": [
        {
          "output_type": "stream",
          "name": "stdout",
          "text": [
            "[[6 8 5]\n",
            " [4 0 1]]\n",
            "(2, 3)\n"
          ]
        }
      ]
    },
    {
      "cell_type": "code",
      "source": [
        "b=a.reshape(3,2)\n",
        "print(b)"
      ],
      "metadata": {
        "colab": {
          "base_uri": "https://localhost:8080/"
        },
        "id": "cg539O9SFXdD",
        "outputId": "6f416798-2d4d-4433-9e1e-b92ee042ac8e"
      },
      "execution_count": 50,
      "outputs": [
        {
          "output_type": "stream",
          "name": "stdout",
          "text": [
            "[[6 8]\n",
            " [5 4]\n",
            " [0 1]]\n"
          ]
        }
      ]
    },
    {
      "cell_type": "markdown",
      "source": [
        "Why is it important to use a numpy array when we have a list and a tuple?\n",
        "1. Because a numpy array is faster\n",
        "2. Speed and Performance: NumPy arrays are much faster for mathematical operations because they use vectorization, which eliminates the need for explicit loops. Their core is written in C, making operations execute much quicker.\n",
        "\n",
        "3. Memory Efficiency: Arrays are more memory-efficient than lists because all elements are of the same data type and are stored in a contiguous block of memory. This saves a lot of space, especially for large datasets.\n",
        "\n",
        "4. Functionality: NumPy provides a vast library of functions for linear algebra, broadcasting, and other mathematical operations that are not available for standard Python lists or tuples. This makes it a foundational library for data science and machine learning.\n",
        "\n",
        "Some Disadvantages of the Numpy array\n",
        "\n",
        "1. Homogeneity (Single Data Type): A NumPy array can only store elements of the same data type. This is its core strength for performance and memory efficiency, but it's also a limitation. If you need to store a mix of integers, strings, and other objects, a standard Python list is the better choice.\n",
        "\n",
        "2. Difficulty in Resizing: Unlike Python lists which can be easily resized with methods like append() or pop(), NumPy arrays have a fixed size upon creation. If you need to change the size of an array, you have to create a new one and copy the old array's data into it. This can be computationally expensive and inefficient for tasks that require frequent modifications to the array's size."
      ],
      "metadata": {
        "id": "6oTuyZ8-FoOj"
      }
    }
  ]
}