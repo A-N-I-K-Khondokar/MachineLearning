{
  "nbformat": 4,
  "nbformat_minor": 0,
  "metadata": {
    "colab": {
      "provenance": [],
      "collapsed_sections": [
        "jD6qmT-3t2jx",
        "PY9vzKDfu3W6"
      ],
      "authorship_tag": "ABX9TyOLJmrHXfYJtwkjZ6IJfkz+",
      "include_colab_link": true
    },
    "kernelspec": {
      "name": "python3",
      "display_name": "Python 3"
    },
    "language_info": {
      "name": "python"
    }
  },
  "cells": [
    {
      "cell_type": "markdown",
      "metadata": {
        "id": "view-in-github",
        "colab_type": "text"
      },
      "source": [
        "<a href=\"https://colab.research.google.com/github/A-N-I-K-Khondokar/MachineLearning/blob/main/Basics_of_Python.ipynb\" target=\"_parent\"><img src=\"https://colab.research.google.com/assets/colab-badge.svg\" alt=\"Open In Colab\"/></a>"
      ]
    },
    {
      "cell_type": "markdown",
      "source": [
        "#Python print() function"
      ],
      "metadata": {
        "id": "vzo2oO47F_lH"
      }
    },
    {
      "cell_type": "code",
      "execution_count": null,
      "metadata": {
        "colab": {
          "base_uri": "https://localhost:8080/"
        },
        "id": "7TYrklwUFNsi",
        "outputId": "07f6c394-e670-46f8-a9b1-acc8c0f02abe"
      },
      "outputs": [
        {
          "output_type": "stream",
          "name": "stdout",
          "text": [
            "Hello\n"
          ]
        }
      ],
      "source": [
        "print(\"Hello\");"
      ]
    },
    {
      "cell_type": "code",
      "source": [
        "print(\"Anik\"+\" Khondokar\")"
      ],
      "metadata": {
        "colab": {
          "base_uri": "https://localhost:8080/"
        },
        "id": "hGAkjmxVGvCk",
        "outputId": "3dc389fc-a10a-4669-ad56-c7a41014a4f8"
      },
      "execution_count": null,
      "outputs": [
        {
          "output_type": "stream",
          "name": "stdout",
          "text": [
            "Anik Khondokar\n"
          ]
        }
      ]
    },
    {
      "cell_type": "code",
      "source": [
        "print(45);"
      ],
      "metadata": {
        "colab": {
          "base_uri": "https://localhost:8080/"
        },
        "id": "eu0JKhpxHIsq",
        "outputId": "877d5652-c544-4fde-e370-af3b3ba2066a"
      },
      "execution_count": null,
      "outputs": [
        {
          "output_type": "stream",
          "name": "stdout",
          "text": [
            "45\n"
          ]
        }
      ]
    },
    {
      "cell_type": "code",
      "source": [
        "print(12+34);\n"
      ],
      "metadata": {
        "colab": {
          "base_uri": "https://localhost:8080/"
        },
        "id": "tJpxKjbSHLUI",
        "outputId": "1c69b21c-bb2c-40c2-f1a5-bb3a622e9b17"
      },
      "execution_count": null,
      "outputs": [
        {
          "output_type": "stream",
          "name": "stdout",
          "text": [
            "46\n"
          ]
        }
      ]
    },
    {
      "cell_type": "markdown",
      "source": [
        "#Data Types"
      ],
      "metadata": {
        "id": "durKLZhOHlj4"
      }
    },
    {
      "cell_type": "code",
      "source": [
        "type(34)\n"
      ],
      "metadata": {
        "colab": {
          "base_uri": "https://localhost:8080/"
        },
        "id": "OGqnUo1lHNn7",
        "outputId": "0b83230c-a5a2-426e-cc09-f0db169b3bba"
      },
      "execution_count": null,
      "outputs": [
        {
          "output_type": "execute_result",
          "data": {
            "text/plain": [
              "int"
            ]
          },
          "metadata": {},
          "execution_count": 12
        }
      ]
    },
    {
      "cell_type": "code",
      "source": [
        "type(232.3)"
      ],
      "metadata": {
        "colab": {
          "base_uri": "https://localhost:8080/"
        },
        "id": "PFAdOVcfIf-f",
        "outputId": "abb93d3a-e1d4-4902-8181-3e22fe838a3d"
      },
      "execution_count": null,
      "outputs": [
        {
          "output_type": "execute_result",
          "data": {
            "text/plain": [
              "float"
            ]
          },
          "metadata": {},
          "execution_count": 13
        }
      ]
    },
    {
      "cell_type": "code",
      "source": [
        "type(\"anik\")"
      ],
      "metadata": {
        "colab": {
          "base_uri": "https://localhost:8080/"
        },
        "id": "KXY5TM3eImZC",
        "outputId": "2e8df587-0bdb-4669-eb48-ffb165c5d5fd"
      },
      "execution_count": null,
      "outputs": [
        {
          "output_type": "execute_result",
          "data": {
            "text/plain": [
              "str"
            ]
          },
          "metadata": {},
          "execution_count": 14
        }
      ]
    },
    {
      "cell_type": "markdown",
      "source": [
        "#Constant & Variables"
      ],
      "metadata": {
        "id": "u_Gdd2SKIsCT"
      }
    },
    {
      "cell_type": "code",
      "source": [
        "variableName=\"Value as a String!\"\n",
        "print(variableName)"
      ],
      "metadata": {
        "colab": {
          "base_uri": "https://localhost:8080/"
        },
        "id": "loJWtS7JIolf",
        "outputId": "e2945745-2514-4dc6-f130-6794e50190a7"
      },
      "execution_count": null,
      "outputs": [
        {
          "output_type": "stream",
          "name": "stdout",
          "text": [
            "Value as a String!\n"
          ]
        }
      ]
    },
    {
      "cell_type": "code",
      "source": [
        "x=y=z=34;\n",
        "print(x)\n",
        "print(y)\n",
        "print(z)"
      ],
      "metadata": {
        "colab": {
          "base_uri": "https://localhost:8080/"
        },
        "id": "vLymQaw7KCnj",
        "outputId": "5b9c2d54-cf5b-4795-e51d-f4e8e9705004"
      },
      "execution_count": null,
      "outputs": [
        {
          "output_type": "stream",
          "name": "stdout",
          "text": [
            "34\n",
            "34\n",
            "34\n"
          ]
        }
      ]
    },
    {
      "cell_type": "code",
      "source": [
        "hero1,hero2,hero3=\"Anik\",\"Bonik\",\"Sonik\";\n",
        "print(hero1)\n",
        "print(hero2)\n",
        "print(hero3)"
      ],
      "metadata": {
        "colab": {
          "base_uri": "https://localhost:8080/"
        },
        "id": "XRmuDrdKKJwM",
        "outputId": "c3e22593-c1ea-4a00-a033-d73a11a0481e"
      },
      "execution_count": null,
      "outputs": [
        {
          "output_type": "stream",
          "name": "stdout",
          "text": [
            "Anik\n",
            "Bonik\n",
            "Sonik\n"
          ]
        }
      ]
    },
    {
      "cell_type": "markdown",
      "source": [
        "#input Function"
      ],
      "metadata": {
        "id": "q3j6W1beKdJf"
      }
    },
    {
      "cell_type": "code",
      "source": [
        "num1=input(\"Enter Num1 : \")\n",
        "num2=input(\"Enter Num2 : \")\n",
        "sum=num1+num2\n",
        "print(sum)"
      ],
      "metadata": {
        "colab": {
          "base_uri": "https://localhost:8080/"
        },
        "id": "17wsfmCJKYGn",
        "outputId": "b40a5d7f-4602-4fad-f5b3-235d9270447d"
      },
      "execution_count": null,
      "outputs": [
        {
          "output_type": "stream",
          "name": "stdout",
          "text": [
            "Enter Num1 : 12\n",
            "Enter Num2 : 34\n",
            "1234\n"
          ]
        }
      ]
    },
    {
      "cell_type": "code",
      "source": [
        "#The Problem with just input() function is that is assumes that the given info is a string\n",
        "#So what we can do is use function to change the type\n",
        "num=23\n",
        "num2=float(num)\n",
        "type(num2)"
      ],
      "metadata": {
        "colab": {
          "base_uri": "https://localhost:8080/"
        },
        "id": "ZYv7SOQGL0Ib",
        "outputId": "56be3799-827b-4392-eb81-1ced4865a5cb"
      },
      "execution_count": null,
      "outputs": [
        {
          "output_type": "execute_result",
          "data": {
            "text/plain": [
              "float"
            ]
          },
          "metadata": {},
          "execution_count": 22
        }
      ]
    },
    {
      "cell_type": "code",
      "source": [
        "num1=int(input(\"Enter Num1 : \"))\n",
        "num2=int(input(\"Enter Num2 : \"))\n",
        "sum=num1+num2\n",
        "print(sum)"
      ],
      "metadata": {
        "colab": {
          "base_uri": "https://localhost:8080/"
        },
        "id": "H09wBvEgMCnq",
        "outputId": "a1cee4e3-6078-4e89-a0d0-3f25687f04bb"
      },
      "execution_count": null,
      "outputs": [
        {
          "output_type": "stream",
          "name": "stdout",
          "text": [
            "Enter Num1 : 12\n",
            "Enter Num2 : 34\n",
            "46\n"
          ]
        }
      ]
    },
    {
      "cell_type": "markdown",
      "source": [
        "#More DataType in Python\n",
        "1. int\n",
        "2. float\n",
        "3. str\n",
        "4. boolean\n",
        "5. complex\n",
        "\n"
      ],
      "metadata": {
        "id": "SI2VgN2pNCph"
      }
    },
    {
      "cell_type": "code",
      "source": [
        "#complex Number\n",
        "num=1+5j\n",
        "print(num)"
      ],
      "metadata": {
        "colab": {
          "base_uri": "https://localhost:8080/"
        },
        "id": "6IfGovaMMpia",
        "outputId": "b6ae2205-9ebc-4256-aa59-e82e15380324"
      },
      "execution_count": null,
      "outputs": [
        {
          "output_type": "stream",
          "name": "stdout",
          "text": [
            "(1+5j)\n"
          ]
        }
      ]
    },
    {
      "cell_type": "code",
      "source": [
        "#Boolean type\n",
        "b=True\n",
        "print(b)\n",
        "type(b)"
      ],
      "metadata": {
        "colab": {
          "base_uri": "https://localhost:8080/"
        },
        "id": "au-Wnp2XQLO0",
        "outputId": "5a1bf6fe-3863-497a-f10f-d04aee5d5a72"
      },
      "execution_count": null,
      "outputs": [
        {
          "output_type": "stream",
          "name": "stdout",
          "text": [
            "True\n"
          ]
        },
        {
          "output_type": "execute_result",
          "data": {
            "text/plain": [
              "bool"
            ]
          },
          "metadata": {},
          "execution_count": 25
        }
      ]
    },
    {
      "cell_type": "code",
      "source": [
        "b=4<2\n",
        "print(b)"
      ],
      "metadata": {
        "colab": {
          "base_uri": "https://localhost:8080/"
        },
        "id": "4J0a2-6yQncJ",
        "outputId": "1a297bc0-fa7e-42fc-ee2e-d3ce8a6505a7"
      },
      "execution_count": null,
      "outputs": [
        {
          "output_type": "stream",
          "name": "stdout",
          "text": [
            "False\n"
          ]
        }
      ]
    },
    {
      "cell_type": "code",
      "source": [
        "#String\n",
        "print(\"Hello \\n\"*5)\n"
      ],
      "metadata": {
        "colab": {
          "base_uri": "https://localhost:8080/"
        },
        "id": "Fv6zlJZsQxHG",
        "outputId": "7b30b049-4f39-4c10-d7dc-0554a4b9a6f1"
      },
      "execution_count": null,
      "outputs": [
        {
          "output_type": "stream",
          "name": "stdout",
          "text": [
            "Hello \n",
            "Hello \n",
            "Hello \n",
            "Hello \n",
            "Hello \n",
            "\n"
          ]
        }
      ]
    },
    {
      "cell_type": "code",
      "source": [
        "#String slicing\n",
        "myString=\"Machine learning\";\n",
        "print(myString[1:4])"
      ],
      "metadata": {
        "colab": {
          "base_uri": "https://localhost:8080/"
        },
        "id": "tilaoAybRAok",
        "outputId": "7a5de8b9-608b-496b-e56e-c8c3faa39b36"
      },
      "execution_count": null,
      "outputs": [
        {
          "output_type": "stream",
          "name": "stdout",
          "text": [
            "ach\n"
          ]
        }
      ]
    },
    {
      "cell_type": "code",
      "source": [
        "#string steping\n",
        "print(myString[1:7:2])"
      ],
      "metadata": {
        "colab": {
          "base_uri": "https://localhost:8080/"
        },
        "id": "WBtoL9a5R5qk",
        "outputId": "30231690-ff2a-4c5c-ccaf-12b7821121d4"
      },
      "execution_count": null,
      "outputs": [
        {
          "output_type": "stream",
          "name": "stdout",
          "text": [
            "ahn\n"
          ]
        }
      ]
    },
    {
      "cell_type": "code",
      "source": [
        "#string concatenation\n",
        "str1=\"Machine\"\n",
        "str2=\" Learning\"\n",
        "print(str1+str2)\n"
      ],
      "metadata": {
        "colab": {
          "base_uri": "https://localhost:8080/"
        },
        "id": "NOa48RhPSAdo",
        "outputId": "fb48e344-4e35-4d7d-e611-bd76e8320cb0"
      },
      "execution_count": null,
      "outputs": [
        {
          "output_type": "stream",
          "name": "stdout",
          "text": [
            "Machine Learning\n"
          ]
        }
      ]
    },
    {
      "cell_type": "markdown",
      "source": [
        "#List, set, dictionary, tuple"
      ],
      "metadata": {
        "id": "uSAQt-_XdmSd"
      }
    },
    {
      "cell_type": "markdown",
      "source": [
        "Types Of Object in Python:\n",
        "1. Immutable object\n",
        "2. Mutable Object\n",
        "\n",
        "Immutable Object:\n",
        "1. int\n",
        "2. float\n",
        "3. string\n",
        "4. bool\n",
        "5. tuple\n",
        "\n",
        "Mutable Object:\n",
        "1. List\n",
        "2. set\n",
        "3. Dictionary"
      ],
      "metadata": {
        "id": "VmOEjNaNds6_"
      }
    },
    {
      "cell_type": "code",
      "source": [
        "# list should be included in square brackets --> []\n",
        "my_list=[1,2,4,6,4,5,6];\n",
        "print(my_list)\n",
        "type(my_list)"
      ],
      "metadata": {
        "colab": {
          "base_uri": "https://localhost:8080/"
        },
        "id": "G8Rn4txSSL3k",
        "outputId": "4990c5be-cf23-4162-d27d-a1f4b6248f6b"
      },
      "execution_count": null,
      "outputs": [
        {
          "output_type": "stream",
          "name": "stdout",
          "text": [
            "[1, 2, 4, 6, 4, 5, 6]\n"
          ]
        },
        {
          "output_type": "execute_result",
          "data": {
            "text/plain": [
              "list"
            ]
          },
          "metadata": {},
          "execution_count": 36
        }
      ]
    },
    {
      "cell_type": "code",
      "source": [
        "#list can have multiple data types\n",
        "myList=[1,'anik',1.5,True]\n",
        "print(myList)"
      ],
      "metadata": {
        "colab": {
          "base_uri": "https://localhost:8080/"
        },
        "id": "mi7K_2wMe7Dy",
        "outputId": "e1006dee-61ab-45bf-b5db-cfdf2db94e55"
      },
      "execution_count": null,
      "outputs": [
        {
          "output_type": "stream",
          "name": "stdout",
          "text": [
            "[1, 'anik', 1.5, True]\n"
          ]
        }
      ]
    },
    {
      "cell_type": "code",
      "source": [
        "# lists are mutable\n",
        "myList.append(\"khondokar\")\n",
        "print(myList)"
      ],
      "metadata": {
        "colab": {
          "base_uri": "https://localhost:8080/"
        },
        "id": "_U2d4umpfRPH",
        "outputId": "576fd3bf-6ca7-4b2b-f53d-9e4a7fc4fe97"
      },
      "execution_count": null,
      "outputs": [
        {
          "output_type": "stream",
          "name": "stdout",
          "text": [
            "[1, 'anik', 1.5, True, 'khondokar']\n"
          ]
        }
      ]
    },
    {
      "cell_type": "code",
      "source": [
        "# Print list element using their index\n",
        "print(myList[0])\n",
        "print(myList[3])"
      ],
      "metadata": {
        "colab": {
          "base_uri": "https://localhost:8080/"
        },
        "id": "vAcsVfeKfeDY",
        "outputId": "ae0ad52d-61c7-4c9c-8593-0f4ede883099"
      },
      "execution_count": null,
      "outputs": [
        {
          "output_type": "stream",
          "name": "stdout",
          "text": [
            "1\n",
            "True\n"
          ]
        }
      ]
    },
    {
      "cell_type": "code",
      "source": [
        "# List allows duplicate values\n",
        "myList2=[1,2,3,4,2,3,4,5,2];\n",
        "print(myList2)"
      ],
      "metadata": {
        "colab": {
          "base_uri": "https://localhost:8080/"
        },
        "id": "Ax2E-6egftJ1",
        "outputId": "4413238b-f752-40aa-e15c-06ab5d91f444"
      },
      "execution_count": null,
      "outputs": [
        {
          "output_type": "stream",
          "name": "stdout",
          "text": [
            "[1, 2, 3, 4, 2, 3, 4, 5, 2]\n"
          ]
        }
      ]
    },
    {
      "cell_type": "code",
      "source": [
        "# length of the list\n",
        "print(len(myList2))"
      ],
      "metadata": {
        "colab": {
          "base_uri": "https://localhost:8080/"
        },
        "id": "H20ztDI7f7Ta",
        "outputId": "92df0a1b-cef1-4f22-8196-743fded407e0"
      },
      "execution_count": null,
      "outputs": [
        {
          "output_type": "stream",
          "name": "stdout",
          "text": [
            "9\n"
          ]
        }
      ]
    },
    {
      "cell_type": "code",
      "source": [
        "# initiating an empty list\n",
        "mylist3=[];\n",
        "print(mylist3)"
      ],
      "metadata": {
        "colab": {
          "base_uri": "https://localhost:8080/"
        },
        "id": "yEhjq15Cf_vC",
        "outputId": "b5e2e008-2e3e-4a3a-dec7-e5c049239a91"
      },
      "execution_count": null,
      "outputs": [
        {
          "output_type": "stream",
          "name": "stdout",
          "text": [
            "[]\n"
          ]
        }
      ]
    },
    {
      "cell_type": "code",
      "source": [
        "# Delete an item from the list\n",
        "myList=[1,'anik',1.5,True,4,665,4,3,4]\n",
        "print(myList)\n",
        "\n",
        "del myList[1]\n",
        "\n",
        "print(myList)\n"
      ],
      "metadata": {
        "colab": {
          "base_uri": "https://localhost:8080/"
        },
        "id": "IWA2GvJsggTn",
        "outputId": "f009d842-4e2c-47ad-c0ab-277be5cd8410"
      },
      "execution_count": null,
      "outputs": [
        {
          "output_type": "stream",
          "name": "stdout",
          "text": [
            "[1, 'anik', 1.5, True, 4, 665, 4, 3, 4]\n",
            "[1, 1.5, True, 4, 665, 4, 3, 4]\n"
          ]
        }
      ]
    },
    {
      "cell_type": "code",
      "source": [
        "# Join two list\n",
        "list1=[1,2,3,4,5]\n",
        "list2=[4,5,6,7,1]\n",
        "list3=list1 + list2\n",
        "print(list3)\n"
      ],
      "metadata": {
        "colab": {
          "base_uri": "https://localhost:8080/"
        },
        "id": "omw-6UWWhAqE",
        "outputId": "b0526ae0-6100-4811-aaa6-8534c1cb91c8"
      },
      "execution_count": null,
      "outputs": [
        {
          "output_type": "stream",
          "name": "stdout",
          "text": [
            "[1, 2, 3, 4, 5, 4, 5, 6, 7, 1]\n"
          ]
        }
      ]
    },
    {
      "cell_type": "markdown",
      "source": [
        "**Tuple**"
      ],
      "metadata": {
        "id": "jLwd9vHyhca8"
      }
    },
    {
      "cell_type": "code",
      "source": [
        "mytuple=(1,2,3,4)\n",
        "print(mytuple)\n",
        "type(mytuple)"
      ],
      "metadata": {
        "colab": {
          "base_uri": "https://localhost:8080/"
        },
        "id": "kD_nR0BthenC",
        "outputId": "1eb77afc-0a8d-462a-e249-d803d1422014"
      },
      "execution_count": null,
      "outputs": [
        {
          "output_type": "stream",
          "name": "stdout",
          "text": [
            "(1, 2, 3, 4)\n"
          ]
        },
        {
          "output_type": "execute_result",
          "data": {
            "text/plain": [
              "tuple"
            ]
          },
          "metadata": {},
          "execution_count": 48
        }
      ]
    },
    {
      "cell_type": "code",
      "source": [
        "# Tuple can also have multiple dataTypes\n",
        "\n",
        "myTuple=(1,3.5,64,True,'Anik Khondokar')\n",
        "print(myTuple)"
      ],
      "metadata": {
        "colab": {
          "base_uri": "https://localhost:8080/"
        },
        "id": "SzI4xWPWivH_",
        "outputId": "d26a8fee-942a-46c0-9643-a53a6c20ef90"
      },
      "execution_count": null,
      "outputs": [
        {
          "output_type": "stream",
          "name": "stdout",
          "text": [
            "(1, 3.5, 64, True, 'Anik Khondokar')\n"
          ]
        }
      ]
    },
    {
      "cell_type": "code",
      "source": [
        "# Converting a tuple into a list\n",
        "myTuple=(1,3.5,64,True,'Anik Khondokar')\n",
        "print(myTuple)\n",
        "myList=list(myTuple)\n",
        "print(myList)"
      ],
      "metadata": {
        "colab": {
          "base_uri": "https://localhost:8080/"
        },
        "id": "IYMk8byyjAdz",
        "outputId": "e518ac9f-bb3d-404b-a0be-fefd8c307b56"
      },
      "execution_count": null,
      "outputs": [
        {
          "output_type": "stream",
          "name": "stdout",
          "text": [
            "(1, 3.5, 64, True, 'Anik Khondokar')\n",
            "[1, 3.5, 64, True, 'Anik Khondokar']\n"
          ]
        }
      ]
    },
    {
      "cell_type": "code",
      "source": [
        "# A tuple can be accessed with index\n",
        "print(myTuple[2])\n",
        "print(myTuple[1])"
      ],
      "metadata": {
        "colab": {
          "base_uri": "https://localhost:8080/"
        },
        "id": "pfP7vQBMjZJd",
        "outputId": "58ca0a13-2c5b-497b-f3bc-b0752635fc4d"
      },
      "execution_count": null,
      "outputs": [
        {
          "output_type": "stream",
          "name": "stdout",
          "text": [
            "64\n",
            "3.5\n"
          ]
        }
      ]
    },
    {
      "cell_type": "code",
      "source": [
        "# tuples are immutable\n",
        "myTuple.append(23)\n",
        "print(myTuple)"
      ],
      "metadata": {
        "colab": {
          "base_uri": "https://localhost:8080/",
          "height": 180
        },
        "id": "Tq05uaZzj2cL",
        "outputId": "d7c888be-57d6-48d8-fc52-65043dcd0705"
      },
      "execution_count": null,
      "outputs": [
        {
          "output_type": "error",
          "ename": "AttributeError",
          "evalue": "'tuple' object has no attribute 'append'",
          "traceback": [
            "\u001b[0;31m---------------------------------------------------------------------------\u001b[0m",
            "\u001b[0;31mAttributeError\u001b[0m                            Traceback (most recent call last)",
            "\u001b[0;32m/tmp/ipython-input-4019932802.py\u001b[0m in \u001b[0;36m<cell line: 0>\u001b[0;34m()\u001b[0m\n\u001b[1;32m      1\u001b[0m \u001b[0;31m# tuples are immutable\u001b[0m\u001b[0;34m\u001b[0m\u001b[0;34m\u001b[0m\u001b[0m\n\u001b[0;32m----> 2\u001b[0;31m \u001b[0mmyTuple\u001b[0m\u001b[0;34m.\u001b[0m\u001b[0mappend\u001b[0m\u001b[0;34m(\u001b[0m\u001b[0;36m23\u001b[0m\u001b[0;34m)\u001b[0m\u001b[0;34m\u001b[0m\u001b[0;34m\u001b[0m\u001b[0m\n\u001b[0m\u001b[1;32m      3\u001b[0m \u001b[0mprint\u001b[0m\u001b[0;34m(\u001b[0m\u001b[0mmyTuple\u001b[0m\u001b[0;34m)\u001b[0m\u001b[0;34m\u001b[0m\u001b[0;34m\u001b[0m\u001b[0m\n",
            "\u001b[0;31mAttributeError\u001b[0m: 'tuple' object has no attribute 'append'"
          ]
        }
      ]
    },
    {
      "cell_type": "code",
      "source": [
        "# length of a tuple\n",
        "print(len(myTuple))"
      ],
      "metadata": {
        "colab": {
          "base_uri": "https://localhost:8080/"
        },
        "id": "7Whs963WkDyF",
        "outputId": "71f7d86c-6285-42c5-e228-63084f52a266"
      },
      "execution_count": null,
      "outputs": [
        {
          "output_type": "stream",
          "name": "stdout",
          "text": [
            "5\n"
          ]
        }
      ]
    },
    {
      "cell_type": "markdown",
      "source": [
        "Sets"
      ],
      "metadata": {
        "id": "kBFz5kOLkyXR"
      }
    },
    {
      "cell_type": "code",
      "source": [
        "# Declaring a set\n",
        "mySet={1,23.4,\"anik\",False}\n",
        "print(mySet)\n",
        "type(mySet)"
      ],
      "metadata": {
        "colab": {
          "base_uri": "https://localhost:8080/"
        },
        "id": "OBsaF-g9kNIL",
        "outputId": "a75e085c-b7e7-4a34-97f2-dc6890c1ecb8"
      },
      "execution_count": null,
      "outputs": [
        {
          "output_type": "stream",
          "name": "stdout",
          "text": [
            "{False, 1, 23.4, 'anik'}\n"
          ]
        },
        {
          "output_type": "execute_result",
          "data": {
            "text/plain": [
              "set"
            ]
          },
          "metadata": {},
          "execution_count": 55
        }
      ]
    },
    {
      "cell_type": "code",
      "source": [
        "# we can not accessed set with index\n",
        "print(mySet[2])"
      ],
      "metadata": {
        "colab": {
          "base_uri": "https://localhost:8080/",
          "height": 162
        },
        "id": "3KivIxiSlBeb",
        "outputId": "76941100-962f-4717-92ac-fe0b53782e66"
      },
      "execution_count": null,
      "outputs": [
        {
          "output_type": "error",
          "ename": "TypeError",
          "evalue": "'set' object is not subscriptable",
          "traceback": [
            "\u001b[0;31m---------------------------------------------------------------------------\u001b[0m",
            "\u001b[0;31mTypeError\u001b[0m                                 Traceback (most recent call last)",
            "\u001b[0;32m/tmp/ipython-input-3276082016.py\u001b[0m in \u001b[0;36m<cell line: 0>\u001b[0;34m()\u001b[0m\n\u001b[1;32m      1\u001b[0m \u001b[0;31m# we can not accessed set with index\u001b[0m\u001b[0;34m\u001b[0m\u001b[0;34m\u001b[0m\u001b[0m\n\u001b[0;32m----> 2\u001b[0;31m \u001b[0mprint\u001b[0m\u001b[0;34m(\u001b[0m\u001b[0mmySet\u001b[0m\u001b[0;34m[\u001b[0m\u001b[0;36m2\u001b[0m\u001b[0;34m]\u001b[0m\u001b[0;34m)\u001b[0m\u001b[0;34m\u001b[0m\u001b[0;34m\u001b[0m\u001b[0m\n\u001b[0m",
            "\u001b[0;31mTypeError\u001b[0m: 'set' object is not subscriptable"
          ]
        }
      ]
    },
    {
      "cell_type": "code",
      "source": [
        "# convert a list to a set\n",
        "myList=[1,'anik',1.5,True,4,665,4,3,4]\n",
        "mySet=set(myList)\n",
        "print(mySet)"
      ],
      "metadata": {
        "colab": {
          "base_uri": "https://localhost:8080/"
        },
        "id": "ATh4oS0flKHm",
        "outputId": "a6860ff9-169b-426b-9df0-2f3f9b743054"
      },
      "execution_count": null,
      "outputs": [
        {
          "output_type": "stream",
          "name": "stdout",
          "text": [
            "{1, 1.5, 3, 4, 'anik', 665}\n"
          ]
        }
      ]
    },
    {
      "cell_type": "code",
      "source": [
        "# set does not allows duplicate\n",
        "mySet={1,23.4,\"anik\",False,1,\"anik\"}\n",
        "print(mySet)"
      ],
      "metadata": {
        "colab": {
          "base_uri": "https://localhost:8080/"
        },
        "id": "f0JOGmy7ldUV",
        "outputId": "0f1b928c-4dca-40bf-f248-92e44a5c0bec"
      },
      "execution_count": null,
      "outputs": [
        {
          "output_type": "stream",
          "name": "stdout",
          "text": [
            "{False, 1, 'anik', 23.4}\n"
          ]
        }
      ]
    },
    {
      "cell_type": "markdown",
      "source": [
        "Dictionary\n",
        "\n",
        "key-value pair\n"
      ],
      "metadata": {
        "id": "t_8tuTscmL3r"
      }
    },
    {
      "cell_type": "code",
      "source": [
        "myDictionary={'name':'anik','age':23,'country':\"Bangladesh\"}\n",
        "print(myDictionary)\n",
        "type(myDictionary)"
      ],
      "metadata": {
        "colab": {
          "base_uri": "https://localhost:8080/"
        },
        "id": "hwRa4iNemQZz",
        "outputId": "04a697f6-40d3-4ebc-8eb4-11933aedb303"
      },
      "execution_count": null,
      "outputs": [
        {
          "output_type": "stream",
          "name": "stdout",
          "text": [
            "{'name': 'anik', 'age': 23, 'country': 'Bangladesh'}\n"
          ]
        },
        {
          "output_type": "execute_result",
          "data": {
            "text/plain": [
              "dict"
            ]
          },
          "metadata": {},
          "execution_count": 59
        }
      ]
    },
    {
      "cell_type": "code",
      "source": [
        "# can access value using key!\n",
        "print(myDictionary['name'])\n",
        "print(myDictionary['age'])"
      ],
      "metadata": {
        "colab": {
          "base_uri": "https://localhost:8080/"
        },
        "id": "6T1pTfl9mre-",
        "outputId": "c9d203e2-c04c-4541-ed69-51a3a5fc73b4"
      },
      "execution_count": null,
      "outputs": [
        {
          "output_type": "stream",
          "name": "stdout",
          "text": [
            "anik\n",
            "23\n"
          ]
        }
      ]
    },
    {
      "cell_type": "code",
      "source": [
        "# dictionary does not allows duplicate values\n",
        "myDictionary={'name':'anik','age':23,'country':\"Bangladesh\",'name':'anik',\"name\":'Bonik'}\n",
        "print(myDictionary)\n"
      ],
      "metadata": {
        "colab": {
          "base_uri": "https://localhost:8080/"
        },
        "id": "_0mrGzhzm-y7",
        "outputId": "4a9e09b9-9019-4504-dcf9-992c89b9439c"
      },
      "execution_count": null,
      "outputs": [
        {
          "output_type": "stream",
          "name": "stdout",
          "text": [
            "{'name': 'Bonik', 'age': 23, 'country': 'Bangladesh'}\n"
          ]
        }
      ]
    },
    {
      "cell_type": "markdown",
      "source": [
        "#Operators in Python\n",
        "1. Arithmetic\n",
        "2. Assignment\n",
        "3. Comparison\n",
        "4. Logical\n",
        "5. Identity\n",
        "6. Membership"
      ],
      "metadata": {
        "id": "XBYamuLjnlk4"
      }
    },
    {
      "cell_type": "markdown",
      "source": [
        "1. Arithmetic Operator"
      ],
      "metadata": {
        "id": "P7wJWoBDpRYg"
      }
    },
    {
      "cell_type": "code",
      "source": [
        "\n",
        "num_1 = 20\n",
        "num_2 = 10\n",
        "\n",
        "# addition\n",
        "sum = num_1 + num_2\n",
        "print('sum = ',sum)\n",
        "\n",
        "# subtraction\n",
        "diff = num_1 - num_2\n",
        "print('difference = ',diff)\n",
        "\n",
        "# multiplication\n",
        "pro = num_1 * num_2\n",
        "print('product = ',pro)\n",
        "\n",
        "# division\n",
        "quo = num_1 / num_2\n",
        "print('quotient = ',quo)\n",
        "\n",
        "# exponent\n",
        "exp = num_1**num_2   # 20^10\n",
        "print('exponent = ',exp)\n",
        "\n",
        "# modulus\n",
        "mod = num_1 % num_2\n",
        "print('reminder = ',mod)"
      ],
      "metadata": {
        "colab": {
          "base_uri": "https://localhost:8080/"
        },
        "id": "NJxZhkx7oOpk",
        "outputId": "370b2561-a5a6-462b-d9c3-79168abba573"
      },
      "execution_count": null,
      "outputs": [
        {
          "output_type": "stream",
          "name": "stdout",
          "text": [
            "sum =  30\n",
            "difference =  10\n",
            "product =  200\n",
            "quotient =  2.0\n",
            "exponent =  10240000000000\n",
            "reminder =  0\n"
          ]
        }
      ]
    },
    {
      "cell_type": "markdown",
      "source": [
        "2. Assignment Operators\n",
        "+=\n",
        "\n",
        "-=\n",
        "\n",
        "*=\n",
        "\n",
        "**=\n",
        "\n",
        "/=\n",
        "\n",
        "%="
      ],
      "metadata": {
        "id": "k9VhoqYNq35c"
      }
    },
    {
      "cell_type": "code",
      "source": [
        "\n",
        "a = 5\n",
        "print(a)\n"
      ],
      "metadata": {
        "colab": {
          "base_uri": "https://localhost:8080/"
        },
        "id": "Nif6N0jCpbXC",
        "outputId": "994ff064-3c59-431b-b6b6-9082636f415b"
      },
      "execution_count": null,
      "outputs": [
        {
          "output_type": "stream",
          "name": "stdout",
          "text": [
            "5\n"
          ]
        }
      ]
    },
    {
      "cell_type": "code",
      "source": [
        "a = 5\n",
        "a += 5   # a = a + 5\n",
        "print(a)"
      ],
      "metadata": {
        "colab": {
          "base_uri": "https://localhost:8080/"
        },
        "id": "4ICk_7ARrDUB",
        "outputId": "34dfb8c0-45e6-46ae-c1af-074b147df2da"
      },
      "execution_count": null,
      "outputs": [
        {
          "output_type": "stream",
          "name": "stdout",
          "text": [
            "10\n"
          ]
        }
      ]
    },
    {
      "cell_type": "markdown",
      "source": [
        "3. Comparison Operators"
      ],
      "metadata": {
        "id": "5gnjrXjprJfw"
      }
    },
    {
      "cell_type": "code",
      "source": [
        "a = 5\n",
        "b = 10\n",
        "\n",
        "print(a == b)   # equal to\n",
        "print(a != b)   # not equal to\n",
        "print(a > b)    # greater than\n",
        "print(a < b)\n",
        "print(a <= b)\n",
        "print(a >= b)"
      ],
      "metadata": {
        "colab": {
          "base_uri": "https://localhost:8080/"
        },
        "id": "pcZK8Jk3rGnU",
        "outputId": "d2b82414-2d2d-4900-b0f3-88e18c3d1006"
      },
      "execution_count": null,
      "outputs": [
        {
          "output_type": "stream",
          "name": "stdout",
          "text": [
            "False\n",
            "True\n",
            "False\n",
            "True\n",
            "True\n",
            "False\n"
          ]
        }
      ]
    },
    {
      "cell_type": "markdown",
      "source": [
        "4. Logical Operators\n",
        "\n",
        "and\n",
        "\n",
        "or\n",
        "\n",
        "not"
      ],
      "metadata": {
        "id": "PuQr2yzOrRJE"
      }
    },
    {
      "cell_type": "code",
      "source": [
        "print( a>20 and a>5)\n",
        "print( a>20 or a>5)\n",
        "print( not( a>8 and a>5))"
      ],
      "metadata": {
        "colab": {
          "base_uri": "https://localhost:8080/"
        },
        "id": "RA4-xxjlrOST",
        "outputId": "c0c4b5ae-b51e-42bd-eef8-0779c57127a2"
      },
      "execution_count": null,
      "outputs": [
        {
          "output_type": "stream",
          "name": "stdout",
          "text": [
            "False\n",
            "False\n",
            "True\n"
          ]
        }
      ]
    },
    {
      "cell_type": "markdown",
      "source": [
        "5. Identity Operator:\n",
        "\n",
        "is\n",
        "\n",
        "is not"
      ],
      "metadata": {
        "id": "4pAfWPRKrZwo"
      }
    },
    {
      "cell_type": "code",
      "source": [
        "x = 5\n",
        "y = 5\n",
        "\n",
        "print(x is y)"
      ],
      "metadata": {
        "colab": {
          "base_uri": "https://localhost:8080/"
        },
        "id": "CkwcN_zjrX_x",
        "outputId": "c8ac9696-e01b-4f4b-cdc9-d13d524296c3"
      },
      "execution_count": null,
      "outputs": [
        {
          "output_type": "stream",
          "name": "stdout",
          "text": [
            "True\n"
          ]
        }
      ]
    },
    {
      "cell_type": "code",
      "source": [
        "\n",
        "x = 5\n",
        "y = 10\n",
        "\n",
        "print(x is y)\n"
      ],
      "metadata": {
        "colab": {
          "base_uri": "https://localhost:8080/"
        },
        "id": "zzdxwPBxrgle",
        "outputId": "851fa508-edc9-4359-9d2e-10805312c522"
      },
      "execution_count": null,
      "outputs": [
        {
          "output_type": "stream",
          "name": "stdout",
          "text": [
            "False\n"
          ]
        }
      ]
    },
    {
      "cell_type": "code",
      "source": [
        "x = 5\n",
        "y = 10\n",
        "\n",
        "print(x is not y)"
      ],
      "metadata": {
        "colab": {
          "base_uri": "https://localhost:8080/"
        },
        "id": "6biXzRcprjBc",
        "outputId": "cbb884dc-fdcd-4086-fd61-08d471053eaf"
      },
      "execution_count": null,
      "outputs": [
        {
          "output_type": "stream",
          "name": "stdout",
          "text": [
            "True\n"
          ]
        }
      ]
    },
    {
      "cell_type": "markdown",
      "source": [
        "6. Membership Operator:\n",
        "\n",
        "in\n",
        "\n",
        "not in"
      ],
      "metadata": {
        "id": "jIwsLhgWrnP8"
      }
    },
    {
      "cell_type": "code",
      "source": [
        "a = 5\n",
        "b =10\n",
        "\n",
        "c = [1,2,3,4,5]\n",
        "print( a in c)\n",
        "print( b in c)"
      ],
      "metadata": {
        "colab": {
          "base_uri": "https://localhost:8080/"
        },
        "id": "eNU5woWyrkup",
        "outputId": "d0f01cf5-9e47-4e6f-c982-71123cc91f43"
      },
      "execution_count": null,
      "outputs": [
        {
          "output_type": "stream",
          "name": "stdout",
          "text": [
            "True\n",
            "False\n"
          ]
        }
      ]
    },
    {
      "cell_type": "code",
      "source": [
        "a = 5\n",
        "b =10\n",
        "\n",
        "c = [1,2,3,4,5]\n",
        "print( a not in c)\n",
        "print( b not in c)"
      ],
      "metadata": {
        "colab": {
          "base_uri": "https://localhost:8080/"
        },
        "id": "Lmhq1CtlrrOi",
        "outputId": "fb63cc4c-41e9-4187-ff9e-f30d156abe69"
      },
      "execution_count": null,
      "outputs": [
        {
          "output_type": "stream",
          "name": "stdout",
          "text": [
            "False\n",
            "True\n"
          ]
        }
      ]
    },
    {
      "cell_type": "code",
      "source": [],
      "metadata": {
        "id": "PetBxtyTrv9j"
      },
      "execution_count": null,
      "outputs": []
    },
    {
      "cell_type": "markdown",
      "source": [
        "#Conditional Statement\n",
        "1. if\n",
        "2. if else\n",
        "3. nested if-else\n",
        "4. if elif else\n"
      ],
      "metadata": {
        "id": "jD6qmT-3t2jx"
      }
    },
    {
      "cell_type": "markdown",
      "source": [
        "1. if else"
      ],
      "metadata": {
        "id": "b48OFFX1uN0T"
      }
    },
    {
      "cell_type": "code",
      "source": [
        "a = 30\n",
        "b = 50\n",
        "\n",
        "if (a>b):\n",
        "  print('a is the greatest number')\n",
        "else:\n",
        "  print('b is the greatest number')"
      ],
      "metadata": {
        "colab": {
          "base_uri": "https://localhost:8080/"
        },
        "id": "pmoOYZdvuL6b",
        "outputId": "740579f6-942f-4e23-da57-4963bc090be0"
      },
      "execution_count": null,
      "outputs": [
        {
          "output_type": "stream",
          "name": "stdout",
          "text": [
            "b is the greatest number\n"
          ]
        }
      ]
    },
    {
      "cell_type": "markdown",
      "source": [
        "2. if elif else"
      ],
      "metadata": {
        "id": "XyvVw0NJuY4X"
      }
    },
    {
      "cell_type": "code",
      "source": [
        "a = 15\n",
        "b = 25\n",
        "c = 30\n",
        "\n",
        "if (b<a>c):\n",
        "  print('a is the greatest number')\n",
        "elif (a<b>c):\n",
        "  print('b is the greatest number')\n",
        "else:\n",
        "  print('c is the greatest number')"
      ],
      "metadata": {
        "colab": {
          "base_uri": "https://localhost:8080/"
        },
        "id": "APEkVU6UuSgZ",
        "outputId": "ebf79212-f92d-4e98-e473-35aad096a0be"
      },
      "execution_count": null,
      "outputs": [
        {
          "output_type": "stream",
          "name": "stdout",
          "text": [
            "c is the greatest number\n"
          ]
        }
      ]
    },
    {
      "cell_type": "markdown",
      "source": [
        "3. Nested if statement"
      ],
      "metadata": {
        "id": "Dmy2To31uqQo"
      }
    },
    {
      "cell_type": "code",
      "source": [
        "a = 20\n",
        "b = 40\n",
        "c = 60\n",
        "\n",
        "if (a>b):\n",
        "  if (a>c):\n",
        "    print('a is the greatest number')\n",
        "  else:\n",
        "    print('c is the greatest number')\n",
        "else:\n",
        "  if (b>c):\n",
        "    print('b is the greatest number')\n",
        "  else:\n",
        "    print('c is the greatest number')"
      ],
      "metadata": {
        "colab": {
          "base_uri": "https://localhost:8080/"
        },
        "id": "9oNpcxrIueSh",
        "outputId": "2bd6ea03-eef0-4bac-b70b-005f6f5fbdf0"
      },
      "execution_count": null,
      "outputs": [
        {
          "output_type": "stream",
          "name": "stdout",
          "text": [
            "c is the greatest number\n"
          ]
        }
      ]
    },
    {
      "cell_type": "markdown",
      "source": [
        "# Loops in Python"
      ],
      "metadata": {
        "id": "PY9vzKDfu3W6"
      }
    },
    {
      "cell_type": "markdown",
      "source": [
        "1. For loops"
      ],
      "metadata": {
        "id": "pGKH8-z5u6x7"
      }
    },
    {
      "cell_type": "code",
      "source": [
        "for i in range(7):    #  the value of  i= 0,1,2,3,4,5,6 // here i is a variable\n",
        "  laptop_price = int(input('Enter the price of the laptop : '))"
      ],
      "metadata": {
        "colab": {
          "base_uri": "https://localhost:8080/"
        },
        "id": "Joe6yiGs6VPw",
        "outputId": "40781cd1-3215-4461-c48f-588eb4f14e8c"
      },
      "execution_count": null,
      "outputs": [
        {
          "name": "stdout",
          "output_type": "stream",
          "text": [
            "Enter the price of the laptop : 1\n",
            "Enter the price of the laptop : 2\n",
            "Enter the price of the laptop : 3\n",
            "Enter the price of the laptop : 4\n",
            "Enter the price of the laptop : 5\n",
            "Enter the price of the laptop : 6\n",
            "Enter the price of the laptop : 7\n"
          ]
        }
      ]
    },
    {
      "cell_type": "markdown",
      "source": [
        "2. While loop"
      ],
      "metadata": {
        "id": "0QU6PwwV6552"
      }
    },
    {
      "cell_type": "code",
      "source": [
        "i = 0     # initialization\n",
        "\n",
        "while i<10: # condition\n",
        "  print(i)\n",
        "  i += 1   # updation"
      ],
      "metadata": {
        "id": "Bvt_IC6-6af_",
        "colab": {
          "base_uri": "https://localhost:8080/"
        },
        "outputId": "8406890e-3c4b-42bb-b412-fea42bd46e50"
      },
      "execution_count": null,
      "outputs": [
        {
          "output_type": "stream",
          "name": "stdout",
          "text": [
            "0\n",
            "1\n",
            "2\n",
            "3\n",
            "4\n",
            "5\n",
            "6\n",
            "7\n",
            "8\n",
            "9\n"
          ]
        }
      ]
    },
    {
      "cell_type": "markdown",
      "source": [
        "# Function"
      ],
      "metadata": {
        "id": "8MdW0zKJ7R2p"
      }
    },
    {
      "cell_type": "markdown",
      "source": [
        "Function is a block of code that can be reused in a Program\n",
        "\n"
      ],
      "metadata": {
        "id": "bQk-z7JB9Pss"
      }
    },
    {
      "cell_type": "code",
      "source": [
        "# Find the factorial of a number without function\n",
        "\n",
        "number = int(input(' Enter a number to find its factorial : '))\n",
        "\n",
        "factorial = 1\n",
        "\n",
        "if number == 0:\n",
        "  print(' The Factorial of 0 is 1')\n",
        "\n",
        "else:\n",
        "  for i in range(1, number+1):\n",
        "    factorial = factorial*i\n",
        "  print('The factorial of ',number,' is',factorial)"
      ],
      "metadata": {
        "colab": {
          "base_uri": "https://localhost:8080/"
        },
        "id": "jKmhZaK17T9j",
        "outputId": "892c9444-f4d7-46ea-a507-b3ddd8e9a2ed"
      },
      "execution_count": null,
      "outputs": [
        {
          "output_type": "stream",
          "name": "stdout",
          "text": [
            " Enter a number to find its factorial : 5\n",
            "The factorial of  5  is 120\n"
          ]
        }
      ]
    },
    {
      "cell_type": "code",
      "source": [
        "# Find the factorial of a Number using a Function\n",
        "def factorial_value(num):\n",
        "\n",
        "  factorial = 1\n",
        "\n",
        "  if num == 0:\n",
        "    return factorial\n",
        "\n",
        "  else:\n",
        "    for i in range(1, num+1):\n",
        "      factorial = factorial*i\n",
        "    return factorial\n"
      ],
      "metadata": {
        "id": "QtugSDlc9dT0"
      },
      "execution_count": null,
      "outputs": []
    },
    {
      "cell_type": "code",
      "source": [
        "print(factorial_value(5))\n"
      ],
      "metadata": {
        "colab": {
          "base_uri": "https://localhost:8080/"
        },
        "id": "WoPPkuwg9xpf",
        "outputId": "343b2fdd-de82-4d78-cb2e-e6b8f117209f"
      },
      "execution_count": null,
      "outputs": [
        {
          "output_type": "stream",
          "name": "stdout",
          "text": [
            "120\n"
          ]
        }
      ]
    },
    {
      "cell_type": "code",
      "source": [
        "print(factorial_value(12))\n"
      ],
      "metadata": {
        "colab": {
          "base_uri": "https://localhost:8080/"
        },
        "id": "FAZaWyoN90dq",
        "outputId": "743b2ae6-5266-4267-899c-d9588a57ac43"
      },
      "execution_count": null,
      "outputs": [
        {
          "output_type": "stream",
          "name": "stdout",
          "text": [
            "479001600\n"
          ]
        }
      ]
    }
  ]
}
